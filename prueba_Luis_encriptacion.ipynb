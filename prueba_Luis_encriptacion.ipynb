{
 "cells": [
  {
   "cell_type": "code",
   "execution_count": 31,
   "metadata": {},
   "outputs": [],
   "source": [
    "# Definimos la clave de cifrado, es aqui donde podria colocar la formula que quisiera, vamos a empezar con esta: \n",
    "\n",
    "clave = int(3 * 4 / 2)  # Esto se calculará solo una vez"
   ]
  },
  {
   "cell_type": "code",
   "execution_count": 32,
   "metadata": {},
   "outputs": [],
   "source": [
    "# Hacemos la Función para encriptar un texto:\n",
    "def encriptar(texto):\n",
    "    texto_encriptado = \"\"\n",
    "    for letra in texto:\n",
    "        # Convertimos cada valor ASCII, sumamos la clave y volvemos a convertir la letra\n",
    "        texto_encriptado += chr(ord(letra) + clave)\n",
    "    return texto_encriptado\n"
   ]
  },
  {
   "cell_type": "code",
   "execution_count": 41,
   "metadata": {},
   "outputs": [
    {
     "name": "stdout",
     "output_type": "stream",
     "text": [
      "Utusgzuvkg2&×gtjĀ\n"
     ]
    }
   ],
   "source": [
    "# Verificacion de la funcion 'encriptar'\n",
    "print(encriptar('Onomatopeya, Ñandú'))"
   ]
  },
  {
   "cell_type": "code",
   "execution_count": 34,
   "metadata": {},
   "outputs": [],
   "source": [
    "# Función para desencriptar el texto usando la misma Clave:\n",
    "def desencriptar(texto_encriptado):\n",
    "    texto_desencriptado = \"\"\n",
    "    for letra in texto_encriptado:\n",
    "        # Convertimos cada letra en ASCII, restamos la clave y volvemos a convertir a letra\n",
    "        texto_desencriptado += chr(ord(letra) - clave)\n",
    "    return texto_desencriptado"
   ]
  },
  {
   "cell_type": "code",
   "execution_count": 42,
   "metadata": {},
   "outputs": [
    {
     "name": "stdout",
     "output_type": "stream",
     "text": [
      "Onomatopeya, Ñandú\n"
     ]
    }
   ],
   "source": [
    "# Verificacion de la funcion 'desencriptar'\n",
    "print(desencriptar('Utusgzuvkg2&×gtjĀ'))"
   ]
  },
  {
   "cell_type": "code",
   "execution_count": 36,
   "metadata": {},
   "outputs": [],
   "source": [
    "#Prueba de los codigos:\n",
    "texto = input('Coloque el texto a encriptar')"
   ]
  },
  {
   "cell_type": "code",
   "execution_count": 37,
   "metadata": {},
   "outputs": [
    {
     "name": "stdout",
     "output_type": "stream",
     "text": [
      "Texto encriptado sk&|u&g&Y{og444&pk&pkkkkkkkkk\n"
     ]
    }
   ],
   "source": [
    "# Encriptando\n",
    "texto_encriptado = encriptar(texto)\n",
    "print(\"Texto encriptado\", texto_encriptado)"
   ]
  },
  {
   "cell_type": "code",
   "execution_count": 38,
   "metadata": {},
   "outputs": [
    {
     "name": "stdout",
     "output_type": "stream",
     "text": [
      "Texto desencriptado me voy a Suiza... je jeeeeeeeee\n"
     ]
    }
   ],
   "source": [
    "# Desencriptando:\n",
    "texto_desencriptado = desencriptar(texto_encriptado)\n",
    "print(\"Texto desencriptado\", texto_desencriptado)"
   ]
  }
 ],
 "metadata": {
  "kernelspec": {
   "display_name": "Python 3",
   "language": "python",
   "name": "python3"
  },
  "language_info": {
   "codemirror_mode": {
    "name": "ipython",
    "version": 3
   },
   "file_extension": ".py",
   "mimetype": "text/x-python",
   "name": "python",
   "nbconvert_exporter": "python",
   "pygments_lexer": "ipython3",
   "version": "3.12.3"
  }
 },
 "nbformat": 4,
 "nbformat_minor": 2
}
